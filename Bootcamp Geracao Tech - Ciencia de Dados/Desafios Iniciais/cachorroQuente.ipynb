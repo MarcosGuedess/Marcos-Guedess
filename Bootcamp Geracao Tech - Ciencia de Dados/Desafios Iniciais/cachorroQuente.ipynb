{
 "cells": [
  {
   "cell_type": "markdown",
   "id": "9dde8e47",
   "metadata": {},
   "source": [
    "\n",
    "## ====================================================\n",
    "## Bootcamp Geração Tech Unimed-BH - Ciência de Dados\n",
    "## ====================================================\n",
    "## 2/3 - Cachorros-Quentes\n",
    "## ====================================================\n",
    "Em 2012 foi alcançado um novo recorde mundial na famosa Competição de Cachorros-Quentes do Nathan: o campeão, Joey Chestnut, devorou 68 cachorros-quentes em dez minutos, um aumento incrível em relação aos 62 sanduíches devorados pelo mesmo Chestnut em 2011.\n",
    "O restaurante Nathan’s Famous Corporation, localizado no Brooklyn, NY, é o responsável pela competição. Eles produzem deliciosos cachorros-quentes, mundialmente famosos, mas quando o assunto é matemática eles não são tão bons. Eles desejam ser listados no Livro de Recordes do Guinness, mas para isso devem preencher um formulário descrevendo os fatos básicos da competição. Em particular, eles devem informar o número médio de cachorros-quentes consumidos pelos participantes durante a competição.\n",
    "Você pode ajudá-los? Eles prometeram pagá-lo com um dos seus saborosos cachorros-quentes. Dados o número total de cachorros-quentes consumidos e o número total de participantes na competição, você deve escrever um programa para determinar o número médio de cachorros-quentes consumidos pelos participantes.\n",
    "Entrada\n",
    "A entrada consiste de uma única linha que contém dois inteiros H e P (1 ≤ H, P ≤ 1000) indicando respectivamente o número total de cachorros-quentes consumidos e o número total de participantes na competição.\n",
    "Saída\n",
    "\n",
    "Seu programa deve produzir uma única linha com um número racional representando o número médio de cachorros-quentes consumidos pelos participantes. O resultado deve ser escrito como um número racional com exatamente dois dígitos após o ponto decimal, arredondado se necessário.\n",
    "--------------------------------------------\n",
    "| Exemplo de Entrada | Exemplo de Saída    |\n",
    "--------------------------------------------\n",
    "| 10 90              | 0.11                |\n",
    "--------------------------------------------\n",
    "| 840 11             | 76.36               |\n",
    "--------------------------------------------\n",
    "| 1 50               | 0.02                |\n",
    "--------------------------------------------\n",
    "| 34 1000            | 0.03                |\n",
    "--------------------------------------------\n",
    "| 35 1000            | 0.04                |\n",
    "--------------------------------------------\n",
    "\n"
   ]
  },
  {
   "cell_type": "markdown",
   "id": "a39d2239",
   "metadata": {},
   "source": [
    "SOLUÇÃO ABAIXO:\n"
   ]
  },
  {
   "cell_type": "code",
   "execution_count": 2,
   "id": "fee3212b",
   "metadata": {},
   "outputs": [
    {
     "name": "stdout",
     "output_type": "stream",
     "text": [
      "10 90\n",
      "0.11\n"
     ]
    }
   ],
   "source": [
    "valores = input().split() \n",
    "total  = int(valores[0])\n",
    "participantes = int(valores[1])\n",
    "\n",
    "result = total / participantes\n",
    "\n",
    "print(f\"{result:2.2f}\")"
   ]
  }
 ],
 "metadata": {
  "kernelspec": {
   "display_name": "Python 3 (ipykernel)",
   "language": "python",
   "name": "python3"
  },
  "language_info": {
   "codemirror_mode": {
    "name": "ipython",
    "version": 3
   },
   "file_extension": ".py",
   "mimetype": "text/x-python",
   "name": "python",
   "nbconvert_exporter": "python",
   "pygments_lexer": "ipython3",
   "version": "3.9.12"
  }
 },
 "nbformat": 4,
 "nbformat_minor": 5
}

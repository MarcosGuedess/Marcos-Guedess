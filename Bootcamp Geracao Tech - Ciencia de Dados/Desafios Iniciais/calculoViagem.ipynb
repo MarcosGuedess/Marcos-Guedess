{
 "cells": [
  {
   "cell_type": "markdown",
   "id": "114027a1",
   "metadata": {},
   "source": [
    "## ====================================================\n",
    "## Bootcamp Geração Tech Unimed-BH - Ciência de Dados\n",
    "## ====================================================\n",
    "## 3/3 - Cálculo de viagem\n",
    "## ====================================================\n",
    "Rubens quer calcular e mostrar a quantidade de litros de combustível gastos em uma viagem de carro, sendo que seu carro faz 12 KM/L. Como ele não sabe fazer um programa que o auxilie nessa missão, ele te pede ajuda. Para efetuar o cálculo, deve-se fornecer o tempo gasto em horas na viagem e a velocidade média durante a mesma em km/h. Assim, você conseguirá passar para Rubens qual a distância percorrida e, em seguida, calcular quantos litros serão necessários para a viagem que ele quer fazer. Mostre o valor com 3 casas decimais após o ponto.\n",
    "Entrada\n",
    "O arquivo de entrada contém dois inteiros. O primeiro é o tempo gasto na viagem em horas e o segundo é a velocidade média durante a mesma em km/h.\n",
    "Saída\n",
    "\n",
    "Imprima a quantidade de litros necessária para realizar a viagem, com três dígitos após o ponto decimal\n",
    " ---------------------------------------------------------------\n",
    " | Exemplo de Entrada | Exemplo de Saída    |\n",
    " ---------------------------------------------------------------\n",
    " | 10 85                           | 70.833                       |\n",
    " ---------------------------------------------------------------\n",
    " | 22 67                           |122.833                      | \n",
    " ---------------------------------------------------------------\n",
    "\n",
    "\n"
   ]
  },
  {
   "cell_type": "markdown",
   "id": "6c65dde8",
   "metadata": {},
   "source": [
    "SOLUÇÃO ABAIXO:"
   ]
  },
  {
   "cell_type": "code",
   "execution_count": null,
   "id": "14e25711",
   "metadata": {},
   "outputs": [],
   "source": [
    "valores = input().split()\n",
    "tempo  = int(valores[0])\n",
    "velocidade  = int(valores[1])\n",
    "\n",
    "litro = velocidade / 12\n",
    "result = tempo * litro\n",
    "\n",
    "print(f\"{result:1.3f}\")"
   ]
  }
 ],
 "metadata": {
  "kernelspec": {
   "display_name": "Python 3 (ipykernel)",
   "language": "python",
   "name": "python3"
  },
  "language_info": {
   "codemirror_mode": {
    "name": "ipython",
    "version": 3
   },
   "file_extension": ".py",
   "mimetype": "text/x-python",
   "name": "python",
   "nbconvert_exporter": "python",
   "pygments_lexer": "ipython3",
   "version": "3.9.12"
  }
 },
 "nbformat": 4,
 "nbformat_minor": 5
}

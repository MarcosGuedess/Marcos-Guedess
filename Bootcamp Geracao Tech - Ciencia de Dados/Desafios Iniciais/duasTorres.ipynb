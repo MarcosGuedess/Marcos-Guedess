{
 "cells": [
  {
   "cell_type": "markdown",
   "id": "34d089d4",
   "metadata": {},
   "source": [
    "\n",
    "## ====================================================\n",
    "## Bootcamp Geração Tech Unimed-BH - Ciência de Dados\n",
    "## ====================================================\n",
    "## 1/3 - As Duas Torres\n",
    "## ====================================================\n",
    "Saruman, o Branco, um grande mago da Terra-média, traiu os bons costumes e se filiou ao lorde do mal, Sauron. Sauron comanda a torre de Minas Morgul, que abriga um dos seus mais temidos servos, o Rei Bruxo de Angmar, um dos Nazgûl (antigos reis humanos que foram corrompidos pelos poderes dos anéis de Sauron). Saruman comanda a torre de Orthanc, onde cria seus servos Uruk-hai, orcs mais terríveis que os convencionais. Para comunicação, eles utilizam as relíquias esféricas chamadas Palantír, que ficam no topo de suas torres.\n",
    "A Terra-média avança cada vez mais em tecnologia, muito impulsionada pelas guerras que a acometem diariamente. Um dos problemas que tem atrapalhado sua população é a Interferência de Comunicação Mágica (ICM). Os estudiosos de Minas Tirith, grande cidadela de Gondor, concluíram que para calcular o ICM para Palantír’s, basta dividir a distância entre os dois Palantír’s, pela soma do diâmetro dos mesmos. Gandalf, o Cinza, chegou a questionar essa conclusão, alegando que ela não fazia muito sentido, mas ele mesmo concluiu que dar sentido às coisas não faz sentido.\n",
    "Saruman e Sauron precisam de uma comunicação estável, pois têm medo que Frodo e seus amigos consigam atrapalhar seus planos, portanto, querem saber quanto de ICM há na comunicação de seus Palantír’s, para que saibam quanto de magia devem empregar na comunicação.\n",
    "Entrada\n",
    "A entrada é composta por 3 inteiros, N(0 < N < 10000), X e Y(0 < X, Y < 100), que indicam, respectivamente, a distância entre os Palantír, o diâmetro do Palantír de Sauron e o diâmetro do Palantír de Saruman.\n",
    "Saída\n",
    "Um valor real indicando o ICM da comunicação dos Palatír de Sauron e Saruman, com 2 casas decimais.\n",
    "--------------------------------------------\n",
    "| Exemplo de Entrada | Exemplo de Saída    |\n",
    "--------------------------------------------\n",
    "| 100 2 2            | 25.00               |\n",
    "--------------------------------------------\n",
    "| 200 3 8            | 18.18               |\n",
    "--------------------------------------------"
   ]
  },
  {
   "cell_type": "markdown",
   "id": "b42f55b9",
   "metadata": {},
   "source": [
    "SOLUÇÃO ABAIXO:"
   ]
  },
  {
   "cell_type": "code",
   "execution_count": null,
   "id": "81e25a3d",
   "metadata": {},
   "outputs": [],
   "source": [
    "entrada = input().split()\n",
    "distancia = int(entrada[0])\n",
    "diametro1 = int(entrada[1])\n",
    "diametro2 = int(entrada[2])\n",
    "\n",
    "soma = (diametro1 + diametro2)\n",
    "resultado = distancia / soma\n",
    "\n",
    "print(f\"{resultado:2.2f}\")"
   ]
  }
 ],
 "metadata": {
  "kernelspec": {
   "display_name": "Python 3 (ipykernel)",
   "language": "python",
   "name": "python3"
  },
  "language_info": {
   "codemirror_mode": {
    "name": "ipython",
    "version": 3
   },
   "file_extension": ".py",
   "mimetype": "text/x-python",
   "name": "python",
   "nbconvert_exporter": "python",
   "pygments_lexer": "ipython3",
   "version": "3.9.12"
  }
 },
 "nbformat": 4,
 "nbformat_minor": 5
}

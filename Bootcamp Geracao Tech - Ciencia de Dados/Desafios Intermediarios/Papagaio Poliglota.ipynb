{
 "cells": [
  {
   "cell_type": "markdown",
   "id": "63108cd1",
   "metadata": {},
   "source": [
    "# Bootcamp Geração Tech Unimed-BH - Ciência de Dados\n",
    "\n",
    "# 1 / 3 - Alfabeto\n",
    "\n",
    "\n",
    "## Desafio\n",
    "Humberto tem um papagaio muito esperto. Quando está com as duas pernas no chão, o papagaio fala em português. Quando levanta a perna esquerda, fala em inglês. Por fim, quando levanta a direita fala em francês. Nico, amigo de Humberto, ficou fascinado com o animal. Em sua emoção perguntou: “E quando ele levanta as duas?”. Antes que Humberto pudesse responder, o papagaio gritou: “Aí eu caio, idiota!”.\n",
    "\n",
    "### Entrada\n",
    "A entrada consiste de diversos casos de teste. Cada caso de teste consiste uma string informando qual a situação de levantamento de pernas do papagaio.\n",
    "\n",
    "### Saída\n",
    "Para cada condição de levantamento de pernas do papagaio, imprima a linguagem que ele utilizará. Caso ele levante ambas as pernas, imprima “caiu”. Quebre uma linha a cada caso de teste."
   ]
  },
  {
   "cell_type": "markdown",
   "id": "1bcfddf5",
   "metadata": {},
   "source": [
    "**Solução do Desafio:**"
   ]
  },
  {
   "cell_type": "code",
   "execution_count": 3,
   "id": "4cb1d45a",
   "metadata": {},
   "outputs": [
    {
     "name": "stdout",
     "output_type": "stream",
     "text": [
      "esquerda\n",
      "ingles\n",
      "direita\n",
      "frances\n",
      "nenhuma\n",
      "portugues\n",
      "testando\n",
      "caiu\n"
     ]
    }
   ],
   "source": [
    "\n",
    "while True: \n",
    "    try: \n",
    "      letra = input() \n",
    "      if (letra == 'esquerda'):\n",
    "        print('ingles')\n",
    "      elif (letra == 'direita'):\n",
    "        print('frances')\n",
    "      elif (letra == 'nenhuma'):\n",
    "        print('portugues')\n",
    "      else:\n",
    "        print('caiu')\n",
    "        break\n",
    "    except EOFError: \n",
    "        break"
   ]
  }
 ],
 "metadata": {
  "kernelspec": {
   "display_name": "Python 3 (ipykernel)",
   "language": "python",
   "name": "python3"
  },
  "language_info": {
   "codemirror_mode": {
    "name": "ipython",
    "version": 3
   },
   "file_extension": ".py",
   "mimetype": "text/x-python",
   "name": "python",
   "nbconvert_exporter": "python",
   "pygments_lexer": "ipython3",
   "version": "3.9.12"
  }
 },
 "nbformat": 4,
 "nbformat_minor": 5
}

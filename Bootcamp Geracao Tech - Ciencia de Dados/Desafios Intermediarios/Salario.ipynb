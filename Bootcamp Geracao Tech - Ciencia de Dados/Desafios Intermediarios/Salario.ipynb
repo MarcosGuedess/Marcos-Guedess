{
 "cells": [
  {
   "cell_type": "markdown",
   "id": "2db84a52",
   "metadata": {},
   "source": [
    "# Bootcamp Geração Tech Unimed-BH - Ciência de Dados\n",
    "\n",
    "# 3 / 3 - Salário\n",
    "\n",
    "\n",
    "A empresa que você trabalha resolveu conceder um aumento salarial a todos funcionários, de acordo com a tabela abaixo:\n",
    "\n",
    "Salário\tPercentual de Reajuste\n",
    "0 - 600.00\n",
    "600.01 - 900.00\n",
    "900.01 - 1500.00\n",
    "1500.01 - 2000.00\n",
    "Acima de 2000.00\n",
    "\n",
    "17%\n",
    "13%\n",
    "12%\n",
    "10%\n",
    "5%\n",
    "\n",
    "Leia o salário do funcionário e calcule e mostre o novo salário, bem como o valor de reajuste ganho e o índice reajustado, em percentual.\n",
    "\n",
    "A entrada contém apenas um valor de ponto flutuante, que pode ser maior ou igual a zero, com duas casas decimais, conforme exemplos abaixo.\n",
    "\n",
    "Exemplo 1\n",
    "\n",
    "Entrada\tSaída\n",
    "1000\tNovo salario: 1120,00 \n",
    "Reajuste ganho: 120,00                                                                                     \n",
    "Em percentual: 12 %\n",
    " \n",
    "\n",
    "Exemplo 2\n",
    "\n",
    "Entrada\tSaída\n",
    "2000\tNovo salario: 2200,00                                                                                                   \n",
    "Reajuste ganho: 200,00                                                                                                  \n",
    "Em percentual: 10 %"
   ]
  },
  {
   "cell_type": "code",
   "execution_count": 1,
   "id": "749fb0cc",
   "metadata": {},
   "outputs": [
    {
     "name": "stdout",
     "output_type": "stream",
     "text": [
      "2200\n",
      "Novo salario: 2310,00 Reajuste ganho: 110,00 Em percentual: 5 %\n"
     ]
    }
   ],
   "source": [
    "salario = int(input()) \n",
    "\n",
    "\n",
    "if salario <= 600.00:\n",
    "  s = salario * 1.17\n",
    "  r = s - salario\n",
    "  p = 17\n",
    "elif salario >= 600.01 and salario <= 900.00:\n",
    "  s = salario * 1.13\n",
    "  r = s - salario\n",
    "  p = 13\n",
    "elif salario >= 900.01 and salario <= 1500.00:\n",
    "  s = salario * 1.12\n",
    "  r = s - salario\n",
    "  p = 12\n",
    "elif salario >= 1500.01 and salario <= 2000.00:\n",
    "  s = salario * 1.10\n",
    "  r = s - salario\n",
    "  p = 10\n",
    "elif salario > 2000.01: \n",
    "  s = salario * 1.05\n",
    "  r = s - salario\n",
    "  p = 5\n",
    "\n",
    "# TODO:  Calcule o salário do funcionário e print o novo salário, bem como o valor de reajuste ganho e o índice reajustado (em porcentagem)\n",
    "\n",
    "salString = str(s)\n",
    "novoSalario = salString.split('.')\n",
    "reString = str(r)\n",
    "novoRe = reString.split('.')\n",
    "\n",
    "print(f'Novo salario: {novoSalario[0]},00 Reajuste ganho: {novoRe[0]},00 Em percentual: {p} %')"
   ]
  }
 ],
 "metadata": {
  "kernelspec": {
   "display_name": "Python 3 (ipykernel)",
   "language": "python",
   "name": "python3"
  },
  "language_info": {
   "codemirror_mode": {
    "name": "ipython",
    "version": 3
   },
   "file_extension": ".py",
   "mimetype": "text/x-python",
   "name": "python",
   "nbconvert_exporter": "python",
   "pygments_lexer": "ipython3",
   "version": "3.9.12"
  }
 },
 "nbformat": 4,
 "nbformat_minor": 5
}

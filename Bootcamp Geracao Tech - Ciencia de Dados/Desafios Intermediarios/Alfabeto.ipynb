{
 "cells": [
  {
   "cell_type": "markdown",
   "id": "8ca331b8",
   "metadata": {},
   "source": [
    "\n",
    "\n",
    "## Bootcamp Geração Tech Unimed-BH - Ciência de Dados\n",
    "\n",
    "## 1 / 3 - Alfabeto\n",
    "\n",
    "## Desafio\n",
    "\n",
    "Dada a letra N do alfabeto, nos diga qual a sua posição.\n",
    "\n",
    "Entrada\n",
    "Um único caracter N, uma letra maiúscula ('A'-'Z') do alfabeto (que contém 26 letras).\n",
    "\n",
    "Saída\n",
    "Um único inteiro, que representa a posição da letra no alfabeto."
   ]
  },
  {
   "cell_type": "markdown",
   "id": "40cd1a56",
   "metadata": {},
   "source": [
    "**SOLUÇÃO ABAIXO:**"
   ]
  },
  {
   "cell_type": "code",
   "execution_count": 21,
   "id": "b1862354",
   "metadata": {},
   "outputs": [
    {
     "name": "stdout",
     "output_type": "stream",
     "text": [
      "b\n",
      "2\n"
     ]
    }
   ],
   "source": [
    "\n",
    "letra = input().upper()\n",
    "\n",
    "# TODO: De acordo com a entrada, imprima a posição dessa letra no Alfabeto;\n",
    "abcedario = [\"A\",\"B\",\"C\",\"D\",\"E\",\"F\",\"G\",\"H\",\"I\",\"J\",\"K\",\"L\",\"M\",\"N\",\"O\",\"P\",\"Q\",\"R\",\"S\",\"T\",\"U\",\"V\",\"W\",\"X\",\"Y\",\"Z\"]\n",
    "valor = abcedario.index(letra) + 1\n",
    "print(valor)"
   ]
  }
 ],
 "metadata": {
  "kernelspec": {
   "display_name": "Python 3 (ipykernel)",
   "language": "python",
   "name": "python3"
  },
  "language_info": {
   "codemirror_mode": {
    "name": "ipython",
    "version": 3
   },
   "file_extension": ".py",
   "mimetype": "text/x-python",
   "name": "python",
   "nbconvert_exporter": "python",
   "pygments_lexer": "ipython3",
   "version": "3.9.12"
  }
 },
 "nbformat": 4,
 "nbformat_minor": 5
}
